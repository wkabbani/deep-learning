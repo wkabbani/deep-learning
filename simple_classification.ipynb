{
  "nbformat": 4,
  "nbformat_minor": 0,
  "metadata": {
    "colab": {
      "name": "simple-classification.ipynb",
      "provenance": [],
      "collapsed_sections": []
    },
    "kernelspec": {
      "name": "python3",
      "display_name": "Python 3"
    }
  },
  "cells": [
    {
      "cell_type": "markdown",
      "metadata": {
        "id": "FPPhVZGiLmx8"
      },
      "source": [
        "# Simple Classification"
      ]
    },
    {
      "cell_type": "markdown",
      "metadata": {
        "id": "vjnUzzlUNuxr"
      },
      "source": [
        "## 1. Setup"
      ]
    },
    {
      "cell_type": "code",
      "metadata": {
        "id": "f0xjDbXkJQG4"
      },
      "source": [
        "import torch\n",
        "from torch import nn, optim\n",
        "import random\n",
        "import math\n",
        "import numpy as np\n",
        "from matplotlib import pyplot as plt\n",
        "from IPython import display"
      ],
      "execution_count": null,
      "outputs": []
    },
    {
      "cell_type": "code",
      "metadata": {
        "id": "7eLUatIyXWRi"
      },
      "source": [
        "from common.plot_tools import plot_data, plot_model, set_default"
      ],
      "execution_count": null,
      "outputs": []
    },
    {
      "cell_type": "code",
      "metadata": {
        "id": "ysl1WK1ELlgG"
      },
      "source": [
        "device = torch.device(\"cuda:0\" if torch.cuda.is_available() else \"cpu\")"
      ],
      "execution_count": null,
      "outputs": []
    },
    {
      "cell_type": "code",
      "metadata": {
        "colab": {
          "base_uri": "https://localhost:8080/"
        },
        "id": "0N-pGxD2LyKp",
        "outputId": "61d810f0-e5cb-405b-e073-cae4fc72a2dc"
      },
      "source": [
        "torch.manual_seed(12345)"
      ],
      "execution_count": null,
      "outputs": []
    },
    {
      "cell_type": "code",
      "metadata": {
        "id": "axaisRROMBrr"
      },
      "source": [
        "n_samples_per_class = 1000\n",
        "n_classes = 4\n",
        "n_dims = 2"
      ],
      "execution_count": null,
      "outputs": []
    },
    {
      "cell_type": "code",
      "metadata": {
        "id": "w8QlsBHdPkcn"
      },
      "source": [
        "set_default()"
      ],
      "execution_count": null,
      "outputs": []
    },
    {
      "cell_type": "markdown",
      "metadata": {
        "id": "N0W_w9yQNxkG"
      },
      "source": [
        "## 2. Creating an artificial dataset"
      ]
    },
    {
      "cell_type": "code",
      "metadata": {
        "colab": {
          "base_uri": "https://localhost:8080/"
        },
        "id": "Cj2W2_C2L5B_",
        "outputId": "26dbaeac-cfda-416f-e37c-71be4208f1fa"
      },
      "source": [
        "X = torch.zeros(n_samples_per_class * n_classes, n_dims).to(device)\n",
        "y = torch.zeros(n_samples_per_class * n_classes, dtype=torch.long).to(device)\n",
        "\n",
        "for c in range(n_classes):\n",
        "    index = 0\n",
        "    t = torch.linspace(0, 1, n_samples_per_class)\n",
        "    inner_var = torch.linspace(\n",
        "        (2 * math.pi / n_classes) * (c),\n",
        "        (2 * math.pi / n_classes) * (2 + c),\n",
        "        n_samples_per_class\n",
        "    ) + torch.randn(n_samples_per_class) * 0.2\n",
        "    \n",
        "    for ix in range(n_samples_per_class * c, n_samples_per_class * (c + 1)):\n",
        "        X[ix] = t[index] * torch.FloatTensor((\n",
        "            math.sin(inner_var[index]), math.cos(inner_var[index])\n",
        "        ))\n",
        "        y[ix] = c\n",
        "        index += 1\n",
        "\n",
        "print(\"Shapes:\")\n",
        "print(\"X:\", tuple(X.size()))\n",
        "print(\"y:\", tuple(y.size()))"
      ],
      "execution_count": null,
      "outputs": []
    },
    {
      "cell_type": "code",
      "metadata": {
        "colab": {
          "base_uri": "https://localhost:8080/",
          "height": 792
        },
        "id": "ngWPLsNhNlLq",
        "outputId": "5fc32e3c-76f2-4f4c-d88a-215ccc31c6f8"
      },
      "source": [
        "# visualise the data\n",
        "plot_data(X, y)"
      ],
      "execution_count": null,
      "outputs": []
    },
    {
      "cell_type": "markdown",
      "metadata": {
        "id": "UFY9yxrPP9uE"
      },
      "source": [
        "## 3. Linear Model"
      ]
    },
    {
      "cell_type": "code",
      "metadata": {
        "id": "-kGq0-VEO-vJ"
      },
      "source": [
        "learning_rate = 1e-3\n",
        "lambda_l2 = 1e-5\n",
        "n_hidden = 100"
      ],
      "execution_count": null,
      "outputs": []
    },
    {
      "cell_type": "code",
      "metadata": {
        "id": "sStMQF3SQ9lC"
      },
      "source": [
        "# create the model\n",
        "model = nn.Sequential(\n",
        "  nn.Linear(n_dims, n_hidden),\n",
        "  nn.Linear(n_hidden, n_classes)                     \n",
        ")\n",
        "\n",
        "# send it to the device\n",
        "model.to(device)\n",
        "\n",
        "# create the loss criterion\n",
        "criterion = nn.CrossEntropyLoss()\n",
        "\n",
        "# create the optimizer\n",
        "optimizer = optim.SGD(model.parameters(), lr=learning_rate, weight_decay=lambda_l2)"
      ],
      "execution_count": null,
      "outputs": []
    },
    {
      "cell_type": "code",
      "metadata": {
        "colab": {
          "base_uri": "https://localhost:8080/"
        },
        "id": "2Yc8K_WYRy9Q",
        "outputId": "3f034394-e32d-4886-ee76-f3969dd9ed6b"
      },
      "source": [
        "# training loop\n",
        "for t in range(1000):\n",
        "  \n",
        "  # feed the input forward through the network\n",
        "  y_pred = model(X)\n",
        "\n",
        "  # compute th loss\n",
        "  loss = criterion(y_pred, y)\n",
        "  _, predicted = torch.max(y_pred, dim=1)\n",
        "  acc = (y == predicted).sum().float() / len(y)\n",
        "  print(\"[EPOCH]: %i, [LOSS]: %.6f, [ACCURACY]: %.3f\" % (t, loss.item(), acc))\n",
        "  display.clear_output(wait=True)\n",
        "\n",
        "  # zero the gradients\n",
        "  optimizer.zero_grad()\n",
        "\n",
        "  # backward pass to compute the gradients\n",
        "  loss.backward()\n",
        "\n",
        "  # update params\n",
        "  optimizer.step()"
      ],
      "execution_count": null,
      "outputs": []
    },
    {
      "cell_type": "code",
      "metadata": {
        "colab": {
          "base_uri": "https://localhost:8080/",
          "height": 864
        },
        "id": "ajFfDpnhSbNk",
        "outputId": "3d861549-898c-4978-d327-3d8220685f9a"
      },
      "source": [
        "# Plot trained model\n",
        "print(model)\n",
        "plot_model(X, y, model)"
      ],
      "execution_count": null,
      "outputs": []
    },
    {
      "cell_type": "markdown",
      "metadata": {
        "id": "4klZnKKOWN3Y"
      },
      "source": [
        "## 4. Non-linear Model"
      ]
    },
    {
      "cell_type": "code",
      "metadata": {
        "id": "VWtFX_DXT3Ix"
      },
      "source": [
        "learning_rate = 1e-3\n",
        "lambda_l2 = 1e-5"
      ],
      "execution_count": null,
      "outputs": []
    },
    {
      "cell_type": "code",
      "metadata": {
        "id": "ORBkohWgWSm-"
      },
      "source": [
        "# create the model\n",
        "model = nn.Sequential(\n",
        "    nn.Linear(n_dims, n_hidden),\n",
        "    nn.ReLU(),\n",
        "    nn.Linear(n_hidden, n_classes)\n",
        ")\n",
        "\n",
        "# send to device\n",
        "model.to(device)\n",
        "\n",
        "# loss criterion\n",
        "criterion = torch.nn.CrossEntropyLoss()\n",
        "\n",
        "# define optimizer\n",
        "optimizer = torch.optim.Adam(model.parameters(), lr=learning_rate, weight_decay=lambda_l2) # built-in L2"
      ],
      "execution_count": null,
      "outputs": []
    },
    {
      "cell_type": "code",
      "metadata": {
        "colab": {
          "base_uri": "https://localhost:8080/"
        },
        "id": "Pmk6f5F4WneS",
        "outputId": "91dfa495-9853-4625-ccd9-98bb21d0a53a"
      },
      "source": [
        "# training loop\n",
        "for t in range(1000):\n",
        "    \n",
        "    # feed the input forward into the network\n",
        "    y_pred = model(X)\n",
        "    \n",
        "    # Compute the loss and accuracy\n",
        "    loss = criterion(y_pred, y)\n",
        "    _, predicted = torch.max(y_pred, 1)\n",
        "    acc = (y == predicted).sum().float() / len(y)\n",
        "    print(\"[EPOCH]: %i, [LOSS]: %.6f, [ACCURACY]: %.3f\" % (t, loss.item(), acc))\n",
        "    display.clear_output(wait=True)\n",
        "    \n",
        "    # zero the grads\n",
        "    optimizer.zero_grad()\n",
        "    \n",
        "    # compute the gradients \n",
        "    loss.backward()\n",
        "    \n",
        "    # update params\n",
        "    optimizer.step()"
      ],
      "execution_count": null,
      "outputs": []
    },
    {
      "cell_type": "code",
      "metadata": {
        "colab": {
          "base_uri": "https://localhost:8080/",
          "height": 882
        },
        "id": "surAwJdYW1O3",
        "outputId": "cdb7534c-fe9f-45af-c187-a5dc98c1dfc5"
      },
      "source": [
        "# Plot trained model\n",
        "print(model)\n",
        "plot_model(X, y, model)"
      ],
      "execution_count": null,
      "outputs": []
    },
    {
      "cell_type": "code",
      "metadata": {
        "id": "VB2JW-KPW5Ip"
      },
      "source": [],
      "execution_count": null,
      "outputs": []
    }
  ]
}
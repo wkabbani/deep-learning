{
  "nbformat": 4,
  "nbformat_minor": 0,
  "metadata": {
    "colab": {
      "name": "jupyter-basics.ipynb",
      "provenance": [],
      "collapsed_sections": [],
      "authorship_tag": "ABX9TyOsSwtCL/5U/8MtRaXaFFnL",
      "include_colab_link": true
    },
    "kernelspec": {
      "name": "python3",
      "display_name": "Python 3"
    }
  },
  "cells": [
    {
      "cell_type": "markdown",
      "metadata": {
        "id": "view-in-github",
        "colab_type": "text"
      },
      "source": [
        "<a href=\"https://colab.research.google.com/github/wkabbani/deep-learning/blob/main/jupyter_basics.ipynb\" target=\"_parent\"><img src=\"https://colab.research.google.com/assets/colab-badge.svg\" alt=\"Open In Colab\"/></a>"
      ]
    },
    {
      "cell_type": "markdown",
      "metadata": {
        "id": "nsWmaAZ1k1Tu"
      },
      "source": [
        "# Jupyter Basics"
      ]
    },
    {
      "cell_type": "code",
      "metadata": {
        "id": "7jcJGRcXk1Tv"
      },
      "source": [
        "# getting help 1\n",
        "torch.*Tensor?"
      ],
      "execution_count": null,
      "outputs": []
    },
    {
      "cell_type": "code",
      "metadata": {
        "id": "uElnK80Nk1Tw"
      },
      "source": [
        "# getting help 2\n",
        "torch.nn.Module?"
      ],
      "execution_count": null,
      "outputs": []
    },
    {
      "cell_type": "code",
      "metadata": {
        "id": "TB_fuBfBk1Tw"
      },
      "source": [
        "# getting help 3\n",
        "torch.nn.Module??"
      ],
      "execution_count": null,
      "outputs": []
    },
    {
      "cell_type": "code",
      "metadata": {
        "scrolled": true,
        "id": "fCMex-dMk1Tw"
      },
      "source": [
        "# single line bash\n",
        "!ls -lh"
      ],
      "execution_count": null,
      "outputs": []
    },
    {
      "cell_type": "code",
      "metadata": {
        "id": "BFPiB4jrk1Tw"
      },
      "source": [
        "# block bash\n",
        "%%bash\n",
        "for f in $(ls *.*); do\n",
        "    echo $(wc -l $f)\n",
        "done"
      ],
      "execution_count": null,
      "outputs": []
    },
    {
      "cell_type": "code",
      "metadata": {
        "id": "SGx2PuS4k1Tx"
      },
      "source": [
        "# IPython magic functions\n",
        "%magic"
      ],
      "execution_count": null,
      "outputs": []
    }
  ]
}